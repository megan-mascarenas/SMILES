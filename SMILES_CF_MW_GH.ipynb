{
 "cells": [
  {
   "cell_type": "markdown",
   "id": "bc700908-6504-4dcb-833a-3301b1b50c7d",
   "metadata": {},
   "source": [
    "#### - Converts SMILES strings to Chemical Formulas\n",
    "#### - Calculates Molecular Weights from Chemical Formulas\n",
    "#### - Appends Values to the Dataset\n",
    "#### - Example with Toxicity Dataset"
   ]
  },
  {
   "cell_type": "markdown",
   "id": "b949c372-17a5-489f-9275-0a7fa757c9f7",
   "metadata": {},
   "source": [
    "# Packages"
   ]
  },
  {
   "cell_type": "code",
   "execution_count": 1,
   "id": "a97c4c66-bc2c-43a4-bb38-4ee5c97cff7d",
   "metadata": {},
   "outputs": [],
   "source": [
    "# Importing packages\n",
    "import pandas as pd\n",
    "from rdkit import Chem\n",
    "from rdkit.Chem.rdMolDescriptors import CalcMolFormula\n",
    "from rdkit.Chem import AllChem as Chem\n",
    "import re"
   ]
  },
  {
   "cell_type": "code",
   "execution_count": 2,
   "id": "fbd6fbfd-23a4-4d47-b177-3269abf5686a",
   "metadata": {},
   "outputs": [],
   "source": [
    "# Importing the Toxicity Dataset\n",
    "df = pd.read_csv('data_set.csv')"
   ]
  },
  {
   "cell_type": "markdown",
   "id": "689e1702-87fc-4e2f-9c23-a74d14beda74",
   "metadata": {},
   "source": [
    "## Convert SMILES to Chemical Formula"
   ]
  },
  {
   "cell_type": "code",
   "execution_count": 3,
   "id": "fc752466-c54f-4566-88bb-4c6d139281d3",
   "metadata": {},
   "outputs": [],
   "source": [
    "# Coverting \"SMILES\" feature to Dtype \"string\"\n",
    "df['SMILES'] = df['SMILES'].astype(\"string\")"
   ]
  },
  {
   "cell_type": "code",
   "execution_count": 4,
   "id": "35ca3a61-a811-486b-84b0-271bdd454c83",
   "metadata": {},
   "outputs": [
    {
     "name": "stderr",
     "output_type": "stream",
     "text": [
      "[15:03:19] Explicit valence for atom # 2 Cl, 2, is greater than permitted\n",
      "[15:03:19] Explicit valence for atom # 3 Si, 8, is greater than permitted\n",
      "[15:03:19] Explicit valence for atom # 0 Cl, 2, is greater than permitted\n",
      "[15:03:19] WARNING: not removing hydrogen atom without neighbors\n"
     ]
    }
   ],
   "source": [
    "# Function calculates chemical formula from SMILES strings\n",
    "\n",
    "formulas = []\n",
    "\n",
    "\n",
    "for smiles in df.iloc[:, -1]:\n",
    "  \n",
    "  if not pd.isna(smiles):\n",
    "    mol = Chem.MolFromSmiles(smiles)\n",
    "    if mol:  \n",
    "      formula = Chem.rdMolDescriptors.CalcMolFormula(mol)\n",
    "      formulas.append(formula)\n",
    "    else:\n",
    "      formulas.append(\"Invalid SMILES\")  \n",
    "  else:\n",
    "    formulas.append(np.nan)  \n",
    "\n",
    "\n",
    "df['formula'] = formulas"
   ]
  },
  {
   "cell_type": "code",
   "execution_count": 5,
   "id": "a9477ee1-11a2-485c-96a6-505a3f0b8f56",
   "metadata": {},
   "outputs": [],
   "source": [
    "# Drop rows where 'formula' is \"Invalid SMILES\"\n",
    "df = df[df['formula'] != \"Invalid SMILES\"]"
   ]
  },
  {
   "cell_type": "markdown",
   "id": "65bd2408-e4fc-4c77-983d-0790a82a26dd",
   "metadata": {},
   "source": [
    "## Calcuate MW from Chemical Formula"
   ]
  },
  {
   "cell_type": "code",
   "execution_count": 6,
   "id": "8cb8e222-5a4f-4fd6-8d83-1a0651cd6188",
   "metadata": {},
   "outputs": [],
   "source": [
    "# Function calculates MW from Chemical Formula\n",
    "\n",
    "def get_mass(formula):\n",
    "    \n",
    "    parts = re.findall(\"[A-Z][a-z]?|[0-9]+\", formula)\n",
    "    mass = 0\n",
    "\n",
    "    for index in range(len(parts)):\n",
    "        if parts[index].isnumeric():\n",
    "            continue\n",
    "\n",
    "        atom = Chem.Atom(parts[index])\n",
    "        multiplier = int(parts[index + 1]) if len(parts) > index + 1 and parts[index + 1].isnumeric() else 1\n",
    "        mass += atom.GetMass() * multiplier\n",
    "\n",
    "    return mass"
   ]
  },
  {
   "cell_type": "code",
   "execution_count": 7,
   "id": "2aeacf24-f1de-4e90-a361-34d5b5de57af",
   "metadata": {},
   "outputs": [],
   "source": [
    "# Appending MW to the dataset\n",
    "df['MW'] = df['formula'].apply(get_mass)"
   ]
  },
  {
   "cell_type": "markdown",
   "id": "f4bcac83-fc4a-4cff-bbe8-e871e3801b3c",
   "metadata": {},
   "source": [
    "## Final DataFrame"
   ]
  },
  {
   "cell_type": "code",
   "execution_count": 8,
   "id": "5d42b908-30cb-4877-adae-aca44a0c9ceb",
   "metadata": {},
   "outputs": [
    {
     "data": {
      "text/html": [
       "<div>\n",
       "<style scoped>\n",
       "    .dataframe tbody tr th:only-of-type {\n",
       "        vertical-align: middle;\n",
       "    }\n",
       "\n",
       "    .dataframe tbody tr th {\n",
       "        vertical-align: top;\n",
       "    }\n",
       "\n",
       "    .dataframe thead th {\n",
       "        text-align: right;\n",
       "    }\n",
       "</style>\n",
       "<table border=\"1\" class=\"dataframe\">\n",
       "  <thead>\n",
       "    <tr style=\"text-align: right;\">\n",
       "      <th></th>\n",
       "      <th>Name</th>\n",
       "      <th>Toxicity</th>\n",
       "      <th>SMILES</th>\n",
       "      <th>formula</th>\n",
       "      <th>MW</th>\n",
       "    </tr>\n",
       "  </thead>\n",
       "  <tbody>\n",
       "    <tr>\n",
       "      <th>0</th>\n",
       "      <td>NCGC00260230-01</td>\n",
       "      <td>0</td>\n",
       "      <td>F[P-](F)(F)(F)(F)F.CCCC[N+]1=CC=CC(C)=C1</td>\n",
       "      <td>C10H16F6NP</td>\n",
       "      <td>295.207</td>\n",
       "    </tr>\n",
       "    <tr>\n",
       "      <th>1</th>\n",
       "      <td>NCGC00184995-01</td>\n",
       "      <td>1</td>\n",
       "      <td>[H][C@@]12CC[C@H](OP(O)(O)=O)[C@@]1(C)CC[C@]3(...</td>\n",
       "      <td>C23H32Cl2NO6P</td>\n",
       "      <td>520.390</td>\n",
       "    </tr>\n",
       "    <tr>\n",
       "      <th>2</th>\n",
       "      <td>NCGC00260471-01</td>\n",
       "      <td>0</td>\n",
       "      <td>[O-][N+](=O)C1=CC=C2NN=CC2=C1</td>\n",
       "      <td>C7H5N3O2</td>\n",
       "      <td>163.136</td>\n",
       "    </tr>\n",
       "    <tr>\n",
       "      <th>3</th>\n",
       "      <td>NCGC00256746-01</td>\n",
       "      <td>0</td>\n",
       "      <td>CCC1=NC=CN=C1C</td>\n",
       "      <td>C7H10N2</td>\n",
       "      <td>122.171</td>\n",
       "    </tr>\n",
       "    <tr>\n",
       "      <th>4</th>\n",
       "      <td>NCGC00183024-01</td>\n",
       "      <td>1</td>\n",
       "      <td>CCCN(CCC)C(=O)C(CCC(=O)OCCCN1CCN(CCOC(=O)CC2=C...</td>\n",
       "      <td>C46H58ClN5O8</td>\n",
       "      <td>844.450</td>\n",
       "    </tr>\n",
       "  </tbody>\n",
       "</table>\n",
       "</div>"
      ],
      "text/plain": [
       "              Name  Toxicity  \\\n",
       "0  NCGC00260230-01         0   \n",
       "1  NCGC00184995-01         1   \n",
       "2  NCGC00260471-01         0   \n",
       "3  NCGC00256746-01         0   \n",
       "4  NCGC00183024-01         1   \n",
       "\n",
       "                                              SMILES        formula       MW  \n",
       "0           F[P-](F)(F)(F)(F)F.CCCC[N+]1=CC=CC(C)=C1     C10H16F6NP  295.207  \n",
       "1  [H][C@@]12CC[C@H](OP(O)(O)=O)[C@@]1(C)CC[C@]3(...  C23H32Cl2NO6P  520.390  \n",
       "2                      [O-][N+](=O)C1=CC=C2NN=CC2=C1       C7H5N3O2  163.136  \n",
       "3                                     CCC1=NC=CN=C1C        C7H10N2  122.171  \n",
       "4  CCCN(CCC)C(=O)C(CCC(=O)OCCCN1CCN(CCOC(=O)CC2=C...   C46H58ClN5O8  844.450  "
      ]
     },
     "execution_count": 8,
     "metadata": {},
     "output_type": "execute_result"
    }
   ],
   "source": [
    "# Print df head\n",
    "df.head()"
   ]
  },
  {
   "cell_type": "markdown",
   "id": "ab7a640c-4ad3-479e-b885-59cb1493f392",
   "metadata": {},
   "source": [
    "## Exporting New Dataset to Desktop"
   ]
  },
  {
   "cell_type": "code",
   "execution_count": 9,
   "id": "3fecad83-de9e-49df-9514-640038cd63f3",
   "metadata": {},
   "outputs": [],
   "source": [
    "# Exporting df to desktop as .csv\n",
    "df.to_csv('new_dataset.csv')"
   ]
  }
 ],
 "metadata": {
  "kernelspec": {
   "display_name": "Python 3 (ipykernel)",
   "language": "python",
   "name": "python3"
  },
  "language_info": {
   "codemirror_mode": {
    "name": "ipython",
    "version": 3
   },
   "file_extension": ".py",
   "mimetype": "text/x-python",
   "name": "python",
   "nbconvert_exporter": "python",
   "pygments_lexer": "ipython3",
   "version": "3.9.18"
  }
 },
 "nbformat": 4,
 "nbformat_minor": 5
}
